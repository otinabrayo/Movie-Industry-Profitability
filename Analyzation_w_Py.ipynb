{
 "cells": [
  {
   "cell_type": "code",
   "execution_count": 1,
   "id": "f2bb882b-3620-40a0-bb74-78c2bfef7133",
   "metadata": {},
   "outputs": [],
   "source": [
    "%matplotlib inline\n",
    "import pandas as pd\n",
    "import numpy as np\n",
    "import matplotlib.pyplot as plt"
   ]
  },
  {
   "cell_type": "code",
   "execution_count": 2,
   "id": "c16f0bcb-44a4-4b78-97fe-314acfcda275",
   "metadata": {},
   "outputs": [],
   "source": [
    "movies_clean = pd.read_csv('tmdb_5000_movies_cleaned.csv')"
   ]
  },
  {
   "cell_type": "code",
   "execution_count": 3,
   "id": "f58758ca-a9e1-43f9-b7ab-35ff559e956d",
   "metadata": {},
   "outputs": [
    {
     "data": {
      "text/html": [
       "<div>\n",
       "<style scoped>\n",
       "    .dataframe tbody tr th:only-of-type {\n",
       "        vertical-align: middle;\n",
       "    }\n",
       "\n",
       "    .dataframe tbody tr th {\n",
       "        vertical-align: top;\n",
       "    }\n",
       "\n",
       "    .dataframe thead th {\n",
       "        text-align: right;\n",
       "    }\n",
       "</style>\n",
       "<table border=\"1\" class=\"dataframe\">\n",
       "  <thead>\n",
       "    <tr style=\"text-align: right;\">\n",
       "      <th></th>\n",
       "      <th>budget</th>\n",
       "      <th>genres</th>\n",
       "      <th>homepage</th>\n",
       "      <th>id</th>\n",
       "      <th>keywords</th>\n",
       "      <th>overview</th>\n",
       "      <th>popularity</th>\n",
       "      <th>production_companies</th>\n",
       "      <th>production_countries</th>\n",
       "      <th>release_date</th>\n",
       "      <th>revenue</th>\n",
       "      <th>runtime</th>\n",
       "      <th>title</th>\n",
       "      <th>vote_average</th>\n",
       "      <th>vote_count</th>\n",
       "    </tr>\n",
       "  </thead>\n",
       "  <tbody>\n",
       "    <tr>\n",
       "      <th>0</th>\n",
       "      <td>2370000</td>\n",
       "      <td>[{\"id\": 28, \"name\": \"Action\"}, {\"id\": 12, \"nam...</td>\n",
       "      <td>http://www.avatarmovie.com/</td>\n",
       "      <td>19995</td>\n",
       "      <td>[{\"id\": 1463, \"name\": \"culture clash\"}, {\"id\":...</td>\n",
       "      <td>In the 22nd century, a paraplegic Marine is di...</td>\n",
       "      <td>150.437577</td>\n",
       "      <td>[{\"name\": \"Ingenious Film Partners\", \"id\": 289...</td>\n",
       "      <td>[{\"iso_3166_1\": \"US\", \"name\": \"United States o...</td>\n",
       "      <td>10/12/2009</td>\n",
       "      <td>2787965087</td>\n",
       "      <td>162</td>\n",
       "      <td>Avatar</td>\n",
       "      <td>7.2</td>\n",
       "      <td>11800</td>\n",
       "    </tr>\n",
       "    <tr>\n",
       "      <th>1</th>\n",
       "      <td>2450000</td>\n",
       "      <td>[{\"id\": 28, \"name\": \"Action\"}, {\"id\": 12, \"nam...</td>\n",
       "      <td>http://www.sonypictures.com/movies/spectre/</td>\n",
       "      <td>206647</td>\n",
       "      <td>[{\"id\": 470, \"name\": \"spy\"}, {\"id\": 818, \"name...</td>\n",
       "      <td>A cryptic message from Bond’s past sends him o...</td>\n",
       "      <td>107.376788</td>\n",
       "      <td>[{\"name\": \"Columbia Pictures\", \"id\": 5}, {\"nam...</td>\n",
       "      <td>[{\"iso_3166_1\": \"GB\", \"name\": \"United Kingdom\"...</td>\n",
       "      <td>26/10/2015</td>\n",
       "      <td>880674609</td>\n",
       "      <td>148</td>\n",
       "      <td>Spectre</td>\n",
       "      <td>6.3</td>\n",
       "      <td>4466</td>\n",
       "    </tr>\n",
       "    <tr>\n",
       "      <th>2</th>\n",
       "      <td>2500000</td>\n",
       "      <td>[{\"id\": 28, \"name\": \"Action\"}, {\"id\": 80, \"nam...</td>\n",
       "      <td>http://www.thedarkknightrises.com/</td>\n",
       "      <td>49026</td>\n",
       "      <td>[{\"id\": 849, \"name\": \"dc comics\"}, {\"id\": 853,...</td>\n",
       "      <td>Following the death of District Attorney Harve...</td>\n",
       "      <td>112.312950</td>\n",
       "      <td>[{\"name\": \"Legendary Pictures\", \"id\": 923}, {\"...</td>\n",
       "      <td>[{\"iso_3166_1\": \"US\", \"name\": \"United States o...</td>\n",
       "      <td>16/07/2012</td>\n",
       "      <td>1084939099</td>\n",
       "      <td>165</td>\n",
       "      <td>The Dark Knight Rises</td>\n",
       "      <td>7.6</td>\n",
       "      <td>9106</td>\n",
       "    </tr>\n",
       "    <tr>\n",
       "      <th>3</th>\n",
       "      <td>2600000</td>\n",
       "      <td>[{\"id\": 28, \"name\": \"Action\"}, {\"id\": 12, \"nam...</td>\n",
       "      <td>http://movies.disney.com/john-carter</td>\n",
       "      <td>49529</td>\n",
       "      <td>[{\"id\": 818, \"name\": \"based on novel\"}, {\"id\":...</td>\n",
       "      <td>John Carter is a war-weary, former military ca...</td>\n",
       "      <td>43.926995</td>\n",
       "      <td>[{\"name\": \"Walt Disney Pictures\", \"id\": 2}]</td>\n",
       "      <td>[{\"iso_3166_1\": \"US\", \"name\": \"United States o...</td>\n",
       "      <td>07/03/2012</td>\n",
       "      <td>284139100</td>\n",
       "      <td>132</td>\n",
       "      <td>John Carter</td>\n",
       "      <td>6.1</td>\n",
       "      <td>2124</td>\n",
       "    </tr>\n",
       "    <tr>\n",
       "      <th>4</th>\n",
       "      <td>2600000</td>\n",
       "      <td>[{\"id\": 16, \"name\": \"Animation\"}, {\"id\": 10751...</td>\n",
       "      <td>http://disney.go.com/disneypictures/tangled/</td>\n",
       "      <td>38757</td>\n",
       "      <td>[{\"id\": 1562, \"name\": \"hostage\"}, {\"id\": 2343,...</td>\n",
       "      <td>When the kingdom's most wanted-and most charmi...</td>\n",
       "      <td>48.681969</td>\n",
       "      <td>[{\"name\": \"Walt Disney Pictures\", \"id\": 2}, {\"...</td>\n",
       "      <td>[{\"iso_3166_1\": \"US\", \"name\": \"United States o...</td>\n",
       "      <td>24/11/2010</td>\n",
       "      <td>591794936</td>\n",
       "      <td>100</td>\n",
       "      <td>Tangled</td>\n",
       "      <td>7.4</td>\n",
       "      <td>3330</td>\n",
       "    </tr>\n",
       "  </tbody>\n",
       "</table>\n",
       "</div>"
      ],
      "text/plain": [
       "    budget                                             genres  \\\n",
       "0  2370000  [{\"id\": 28, \"name\": \"Action\"}, {\"id\": 12, \"nam...   \n",
       "1  2450000  [{\"id\": 28, \"name\": \"Action\"}, {\"id\": 12, \"nam...   \n",
       "2  2500000  [{\"id\": 28, \"name\": \"Action\"}, {\"id\": 80, \"nam...   \n",
       "3  2600000  [{\"id\": 28, \"name\": \"Action\"}, {\"id\": 12, \"nam...   \n",
       "4  2600000  [{\"id\": 16, \"name\": \"Animation\"}, {\"id\": 10751...   \n",
       "\n",
       "                                       homepage      id  \\\n",
       "0                   http://www.avatarmovie.com/   19995   \n",
       "1   http://www.sonypictures.com/movies/spectre/  206647   \n",
       "2            http://www.thedarkknightrises.com/   49026   \n",
       "3          http://movies.disney.com/john-carter   49529   \n",
       "4  http://disney.go.com/disneypictures/tangled/   38757   \n",
       "\n",
       "                                            keywords  \\\n",
       "0  [{\"id\": 1463, \"name\": \"culture clash\"}, {\"id\":...   \n",
       "1  [{\"id\": 470, \"name\": \"spy\"}, {\"id\": 818, \"name...   \n",
       "2  [{\"id\": 849, \"name\": \"dc comics\"}, {\"id\": 853,...   \n",
       "3  [{\"id\": 818, \"name\": \"based on novel\"}, {\"id\":...   \n",
       "4  [{\"id\": 1562, \"name\": \"hostage\"}, {\"id\": 2343,...   \n",
       "\n",
       "                                            overview  popularity  \\\n",
       "0  In the 22nd century, a paraplegic Marine is di...  150.437577   \n",
       "1  A cryptic message from Bond’s past sends him o...  107.376788   \n",
       "2  Following the death of District Attorney Harve...  112.312950   \n",
       "3  John Carter is a war-weary, former military ca...   43.926995   \n",
       "4  When the kingdom's most wanted-and most charmi...   48.681969   \n",
       "\n",
       "                                production_companies  \\\n",
       "0  [{\"name\": \"Ingenious Film Partners\", \"id\": 289...   \n",
       "1  [{\"name\": \"Columbia Pictures\", \"id\": 5}, {\"nam...   \n",
       "2  [{\"name\": \"Legendary Pictures\", \"id\": 923}, {\"...   \n",
       "3        [{\"name\": \"Walt Disney Pictures\", \"id\": 2}]   \n",
       "4  [{\"name\": \"Walt Disney Pictures\", \"id\": 2}, {\"...   \n",
       "\n",
       "                                production_countries release_date     revenue  \\\n",
       "0  [{\"iso_3166_1\": \"US\", \"name\": \"United States o...   10/12/2009  2787965087   \n",
       "1  [{\"iso_3166_1\": \"GB\", \"name\": \"United Kingdom\"...   26/10/2015   880674609   \n",
       "2  [{\"iso_3166_1\": \"US\", \"name\": \"United States o...   16/07/2012  1084939099   \n",
       "3  [{\"iso_3166_1\": \"US\", \"name\": \"United States o...   07/03/2012   284139100   \n",
       "4  [{\"iso_3166_1\": \"US\", \"name\": \"United States o...   24/11/2010   591794936   \n",
       "\n",
       "   runtime                  title  vote_average  vote_count  \n",
       "0      162                 Avatar           7.2       11800  \n",
       "1      148                Spectre           6.3        4466  \n",
       "2      165  The Dark Knight Rises           7.6        9106  \n",
       "3      132            John Carter           6.1        2124  \n",
       "4      100                Tangled           7.4        3330  "
      ]
     },
     "execution_count": 3,
     "metadata": {},
     "output_type": "execute_result"
    }
   ],
   "source": [
    "movies_clean.head()"
   ]
  },
  {
   "cell_type": "code",
   "execution_count": 4,
   "id": "a15c7a69-6644-4644-9d91-36a5a5c4a744",
   "metadata": {},
   "outputs": [
    {
     "data": {
      "text/plain": [
       "budget                    int64\n",
       "genres                   object\n",
       "homepage                 object\n",
       "id                        int64\n",
       "keywords                 object\n",
       "overview                 object\n",
       "popularity              float64\n",
       "production_companies     object\n",
       "production_countries     object\n",
       "release_date             object\n",
       "revenue                   int64\n",
       "runtime                   int64\n",
       "title                    object\n",
       "vote_average            float64\n",
       "vote_count                int64\n",
       "dtype: object"
      ]
     },
     "execution_count": 4,
     "metadata": {},
     "output_type": "execute_result"
    }
   ],
   "source": [
    "movies_clean.dtypes"
   ]
  },
  {
   "cell_type": "code",
   "execution_count": 5,
   "id": "f8a110e1-3faf-4bd6-b3af-582643d03797",
   "metadata": {},
   "outputs": [
    {
     "data": {
      "text/plain": [
       "0    2787965087\n",
       "1     880674609\n",
       "2    1084939099\n",
       "3     284139100\n",
       "4     591794936\n",
       "Name: revenue, dtype: int64"
      ]
     },
     "execution_count": 5,
     "metadata": {},
     "output_type": "execute_result"
    }
   ],
   "source": [
    "movies_clean['revenue'] = movies_clean['revenue'].astype(int)\n",
    "movies_clean['revenue'].head()"
   ]
  },
  {
   "cell_type": "code",
   "execution_count": 6,
   "id": "5ce46b91-009c-4009-a2d3-3b1bb6f40874",
   "metadata": {},
   "outputs": [],
   "source": [
    "# Adding a Profit Column to the data\n",
    "\n",
    "movies_clean['profit'] = movies_clean['revenue'] - movies_clean['budget']"
   ]
  },
  {
   "cell_type": "code",
   "execution_count": 7,
   "id": "1aebe9ff-f6ea-4a6c-a607-17b75350a995",
   "metadata": {},
   "outputs": [
    {
     "data": {
      "text/plain": [
       "Index(['budget', 'genres', 'homepage', 'id', 'keywords', 'overview',\n",
       "       'popularity', 'production_companies', 'production_countries',\n",
       "       'release_date', 'revenue', 'runtime', 'title', 'vote_average',\n",
       "       'vote_count', 'profit'],\n",
       "      dtype='object')"
      ]
     },
     "execution_count": 7,
     "metadata": {},
     "output_type": "execute_result"
    }
   ],
   "source": [
    "movies_clean.columns"
   ]
  },
  {
   "cell_type": "code",
   "execution_count": 8,
   "id": "51319505-2f18-46bb-999d-873836f0b506",
   "metadata": {},
   "outputs": [],
   "source": [
    "# Adding ROI column \n",
    "\n",
    "movies_clean['ROI'] = (movies_clean['profit']/ movies_clean['budget']) * 100"
   ]
  },
  {
   "cell_type": "code",
   "execution_count": 9,
   "id": "84337118-54c3-41f7-b532-a1c323f26848",
   "metadata": {},
   "outputs": [],
   "source": [
    "movies_clean['ROI'] = movies_clean['ROI'].round(2)"
   ]
  },
  {
   "cell_type": "code",
   "execution_count": 10,
   "id": "7245218b-9a32-4e5e-8391-8d522ec5e20b",
   "metadata": {},
   "outputs": [
    {
     "data": {
      "text/plain": [
       "'[{\"id\": 28, \"name\": \"Action\"}, {\"id\": 12, \"name\": \"Adventure\"}, {\"id\": 14, \"name\": \"Fantasy\"}, {\"id\": 878, \"name\": \"Science Fiction\"}]'"
      ]
     },
     "execution_count": 10,
     "metadata": {},
     "output_type": "execute_result"
    }
   ],
   "source": [
    "movies_clean['genres'][0]"
   ]
  },
  {
   "cell_type": "code",
   "execution_count": 11,
   "id": "cfce41d0-6d80-4600-bed8-ba58f7395aec",
   "metadata": {},
   "outputs": [
    {
     "data": {
      "text/plain": [
       "'[{\"id\": 28, \"name\": \"Action\"}, {\"id\": 12, \"name\": \"Adventure\"}, {\"id\": 14, \"name\": \"Fantasy\"}, {\"id\": 878, \"name\": \"Science Fiction\"}]'"
      ]
     },
     "execution_count": 11,
     "metadata": {},
     "output_type": "execute_result"
    }
   ],
   "source": [
    "datas = movies_clean['genres']\n",
    "datas[0]"
   ]
  },
  {
   "cell_type": "markdown",
   "id": "3ca7eb32-d3a1-4133-a6c3-64e601c24653",
   "metadata": {},
   "source": [
    "## Adding average profit by genre to the column "
   ]
  },
  {
   "cell_type": "code",
   "execution_count": 12,
   "id": "78048cdf-1681-4623-877c-dd3c236e6d68",
   "metadata": {},
   "outputs": [],
   "source": [
    "# adding genre_count column\n",
    "import json\n",
    "\n",
    "datas = movies_clean['genres']\n",
    "data = pd.DataFrame(datas)\n",
    "\n",
    "# Convert genre strings to list and count items\n",
    "movies_clean[\"genre_count\"] = data[\"genres\"].apply(lambda x: len(json.loads(x)))\n",
    "\n",
    "movies_clean['avg_profit_per_genre'] = (movies_clean['profit']/ movies_clean['genre_count'])"
   ]
  },
  {
   "cell_type": "code",
   "execution_count": 13,
   "id": "0a2a9b3b-26fe-4f23-9857-ef07b3b562a3",
   "metadata": {},
   "outputs": [],
   "source": [
    "movies_clean['avg_profit_per_genre'] = movies_clean['avg_profit_per_genre'].astype(int)"
   ]
  },
  {
   "cell_type": "code",
   "execution_count": 14,
   "id": "1e56b523-08f9-4721-871d-4431740e8609",
   "metadata": {},
   "outputs": [
    {
     "data": {
      "text/plain": [
       "0      696398771\n",
       "1      292741536\n",
       "2      270609774\n",
       "3       93846366\n",
       "4      294597468\n",
       "         ...    \n",
       "816            0\n",
       "817       160976\n",
       "818         3229\n",
       "819      3150860\n",
       "820         -110\n",
       "Name: avg_profit_per_genre, Length: 821, dtype: int64"
      ]
     },
     "execution_count": 14,
     "metadata": {},
     "output_type": "execute_result"
    }
   ],
   "source": [
    "movies_clean['avg_profit_per_genre']"
   ]
  },
  {
   "cell_type": "code",
   "execution_count": 15,
   "id": "c3d05260-267a-46c8-9de6-ef7d89b95266",
   "metadata": {},
   "outputs": [],
   "source": [
    "movies_clean['release_date'] = movies_clean['release_date'].str[6:]"
   ]
  },
  {
   "cell_type": "code",
   "execution_count": 16,
   "id": "8c440446-9975-4284-83c9-9b25c057953c",
   "metadata": {},
   "outputs": [],
   "source": [
    "movies_clean['release_date'] = movies_clean['release_date'].astype(int)"
   ]
  },
  {
   "cell_type": "code",
   "execution_count": 17,
   "id": "99321526-e258-466f-a05a-d2ccc3ba04c2",
   "metadata": {},
   "outputs": [
    {
     "data": {
      "text/plain": [
       "0      2009\n",
       "1      2015\n",
       "2      2012\n",
       "3      2012\n",
       "4      2010\n",
       "       ... \n",
       "816    2011\n",
       "817    1978\n",
       "818    2009\n",
       "819    1994\n",
       "820    2013\n",
       "Name: release_date, Length: 821, dtype: int64"
      ]
     },
     "execution_count": 17,
     "metadata": {},
     "output_type": "execute_result"
    }
   ],
   "source": [
    "movies_clean['release_date'] "
   ]
  },
  {
   "cell_type": "code",
   "execution_count": 18,
   "id": "1eced6e5-5c97-4036-b254-acaf1ef7749d",
   "metadata": {},
   "outputs": [
    {
     "data": {
      "image/png": "[encoded data removed]",
      "text/plain": [
       "<Figure size 640x480 with 1 Axes>"
      ]
     },
     "metadata": {},
     "output_type": "display_data"
    }
   ],
   "source": [
    "movies_clean.plot(y='release_date', x=\"profit\", kind='hist')\n",
    "plt.show()"
   ]
  },
  {
   "cell_type": "code",
   "execution_count": 29,
   "id": "a22c1c87-1341-4bad-83e5-27a3b3731a04",
   "metadata": {},
   "outputs": [],
   "source": [
    "movies_clean.to_csv(\"MoviesCleanedUpdate.csv\", index=False)"
   ]
  },
  {
   "cell_type": "code",
   "execution_count": null,
   "id": "25047aeb-29ee-4354-8e89-8b608a4af85d",
   "metadata": {},
   "outputs": [],
   "source": []
  }
 ],
 "metadata": {
  "kernelspec": {
   "display_name": "Python 3 (ipykernel)",
   "language": "python",
   "name": "python3"
  },
  "language_info": {
   "codemirror_mode": {
    "name": "ipython",
    "version": 3
   },
   "file_extension": ".py",
   "mimetype": "text/x-python",
   "name": "python",
   "nbconvert_exporter": "python",
   "pygments_lexer": "ipython3",
   "version": "3.13.2"
  },
  "widgets": {
   "application/vnd.jupyter.widget-state+json": {
    "state": {},
    "version_major": 2,
    "version_minor": 0
   }
  }
 },
 "nbformat": 4,
 "nbformat_minor": 5
}
